{
 "cells": [
  {
   "cell_type": "code",
   "execution_count": 1,
   "metadata": {},
   "outputs": [],
   "source": [
    "match = {\n",
    "    'A': 'T',\n",
    "    'T': 'A',\n",
    "    'G': 'C',\n",
    "    'C': 'G',\n",
    "    'R': 'Y',\n",
    "    'Y': 'R',\n",
    "    'M': 'K',\n",
    "    'K': 'M',\n",
    "    'S': 'S',\n",
    "    'W': 'W',\n",
    "    'H': 'D',\n",
    "    'D': 'H',\n",
    "    'B': 'V',\n",
    "    'V': 'B',\n",
    "    'N': 'N'\n",
    "}\n",
    "\n",
    "mixed_bases = {'A':['A'],\n",
    "               'T':['T'],\n",
    "               'G':['G'],\n",
    "               'C':['C'],\n",
    "               'R':['A','G'],\n",
    "               'Y':['C','T'],\n",
    "               'M':['A','C'],\n",
    "               'K':['G','T'],\n",
    "               'S':['G','C'],\n",
    "               'W':['A','T'],\n",
    "               'H':['A','C','T'],\n",
    "               'B':['G','C','T'],\n",
    "               'V':['A','C','G'],\n",
    "               'D':['A','G','T'],\n",
    "               'N':['A','C','G','T']}\n",
    "\n",
    "codon = { \n",
    "        'ATA':'I', 'ATC':'I', 'ATT':'I', 'ATG':'M', \n",
    "        'ACA':'T', 'ACC':'T', 'ACG':'T', 'ACT':'T', \n",
    "        'AAC':'N', 'AAT':'N', 'AAA':'K', 'AAG':'K', \n",
    "        'AGC':'S', 'AGT':'S', 'AGA':'R', 'AGG':'R',                  \n",
    "        'CTA':'L', 'CTC':'L', 'CTG':'L', 'CTT':'L', \n",
    "        'CCA':'P', 'CCC':'P', 'CCG':'P', 'CCT':'P', \n",
    "        'CAC':'H', 'CAT':'H', 'CAA':'Q', 'CAG':'Q', \n",
    "        'CGA':'R', 'CGC':'R', 'CGG':'R', 'CGT':'R', \n",
    "        'GTA':'V', 'GTC':'V', 'GTG':'V', 'GTT':'V', \n",
    "        'GCA':'A', 'GCC':'A', 'GCG':'A', 'GCT':'A', \n",
    "        'GAC':'D', 'GAT':'D', 'GAA':'E', 'GAG':'E', \n",
    "        'GGA':'G', 'GGC':'G', 'GGG':'G', 'GGT':'G', \n",
    "        'TCA':'S', 'TCC':'S', 'TCG':'S', 'TCT':'S', \n",
    "        'TTC':'F', 'TTT':'F', 'TTA':'L', 'TTG':'L', \n",
    "        'TAC':'Y', 'TAT':'Y', 'TAA':'*', 'TAG':'*', \n",
    "        'TGC':'C', 'TGT':'C', 'TGA':'*', 'TGG':'W', \n",
    "    }"
   ]
  },
  {
   "cell_type": "code",
   "execution_count": 2,
   "metadata": {},
   "outputs": [],
   "source": [
    "def translate(seq):\n",
    "    \n",
    "    l = len(seq)\n",
    "    assert( l % 3 == 0)\n",
    "    splited_seq = [seq[ii:ii+3] for ii in range(0,l,3)]\n",
    "    \n",
    "    results = []\n",
    "    for c in splited_seq:\n",
    "        aas = set()\n",
    "        for x in mixed_bases[c[0]]:\n",
    "            for y in mixed_bases[c[1]]:\n",
    "                for z in mixed_bases[c[2]]:\n",
    "                    aas.add(codon[x+y+z])\n",
    "        results.append(aas)\n",
    "        \n",
    "    for resi,aas in enumerate(results, start=1):\n",
    "        print(\"{:<10d}{:20s}{:20s}\".format(resi, splited_seq[resi-1], ''.join(aas)) )\n",
    "        \n",
    "def translate2(seq):\n",
    "    \n",
    "    l = len(seq)\n",
    "    assert( l % 3 == 0)\n",
    "    splited_seq = [seq[ii:ii+3] for ii in range(0,l,3)]\n",
    "    \n",
    "    results = []\n",
    "    for c in splited_seq:\n",
    "        aas = set()\n",
    "        for x in mixed_bases[c[0]]:\n",
    "            for y in mixed_bases[c[1]]:\n",
    "                for z in mixed_bases[c[2]]:\n",
    "                    aas.add(codon[x+y+z])\n",
    "        results.append(aas)\n",
    "        \n",
    "    to_print = \"\"\n",
    "    for resi,aas in enumerate(results, start=1):\n",
    "        if ( len(aas) == 1):\n",
    "            to_print += \"\".join(aas)\n",
    "        else:\n",
    "            to_print += \"[\" + ''.join(aas) + \"]\"\n",
    "            \n",
    "    print(to_print)\n",
    "        \n",
    "    #return results\n",
    "\n",
    "def reverse_complementary(seq):\n",
    "    r = [match[ii] for ii in seq][::-1]\n",
    "    return ''.join(r)\n",
    "        \n",
    "    #return results\n",
    "\n",
    "def reverse_complementary(seq):\n",
    "    r = [match[ii] for ii in seq][::-1]\n",
    "    return ''.join(r)"
   ]
  },
  {
   "cell_type": "code",
   "execution_count": 9,
   "metadata": {},
   "outputs": [
    {
     "name": "stdout",
     "output_type": "stream",
     "text": [
      "1         GCG                 A                   \n",
      "2         CGC                 R                   \n",
      "3         ATT                 I                   \n",
      "4         GAA                 E                   \n",
      "5         AAT                 N                   \n",
      "6         GCG                 A                   \n",
      "7         CTG                 L                   \n",
      "8         GCG                 A                   \n",
      "9         GAA                 E                   \n",
      "10        GAA                 E                   \n",
      "11        CTG                 L                   \n",
      "12        AGC                 S                   \n",
      "13        GCG                 A                   \n",
      "14        GAA                 E                   \n",
      "15        TTT                 F                   \n",
      "16        GCG                 A                   \n",
      "17        CGC                 R                   \n",
      "18        GAA                 E                   \n",
      "19        GAA                 E                   \n",
      "20        GAA                 E                   \n",
      "21        CTG                 L                   \n",
      "22        CTG                 L                   \n",
      "23        GAA                 E                   \n",
      "24        CTG                 L                   \n",
      "25        CAT                 H                   \n",
      "26        CGC                 R                   \n",
      "27        CTG                 L                   \n",
      "28        ATT                 I                   \n",
      "29        GAA                 E                   \n",
      "30        AAT                 N                   \n",
      "31        TTT                 F                   \n",
      "32        CTG                 L                   \n",
      "33        GAA                 E                   \n",
      "34        GAA                 E                   \n",
      "35        GCG                 A                   \n",
      "36        AAA                 K                   \n",
      "37        CGC                 R                   \n",
      "38        GTG                 V                   \n",
      "39        AAA                 K                   \n",
      "40        CTG                 L                   \n",
      "41        ACC                 T                   \n",
      "42        AAA                 K                   \n",
      "43        GCG                 A                   \n",
      "44        CTG                 L                   \n",
      "45        CAG                 Q                   \n",
      "46        GGC                 G                   \n",
      "47        AAT                 N                   \n",
      "48        GGC                 G                   \n",
      "49        GAT                 D                   \n",
      "50        CCG                 P                   \n",
      "51        CGC                 R                   \n",
      "52        CTG                 L                   \n",
      "53        GAA                 E                   \n",
      "54        CTG                 L                   \n",
      "55        GCG                 A                   \n",
      "56        GCG                 A                   \n"
     ]
    }
   ],
   "source": [
    "\n",
    "# Enter your original unpadded DNA here. Ensure that the output below matches your protein sequence\n",
    "# This sequence comes from step 7\n",
    "\n",
    "\n",
    "seq = 'GCGCGCATTGAAAATGCGCTGGCGGAAGAACTGAGCGCGGAATTTGCGCGCGAAGAAGAACTGCTGGAACTGCATCGCCTGATTGAAAATTTTCTGGAAGAAGCGAAACGCGTGAAACTGACCAAAGCGCTGCAGGGCAATGGCGATCCGCGCCTGGAACTGGCGGCG'\n",
    "translate(seq)"
   ]
  },
  {
   "cell_type": "code",
   "execution_count": 10,
   "metadata": {},
   "outputs": [],
   "source": [
    "s = seq\n",
    "s_splited = [s[ii:ii+3] for ii in range(0,len(s),3)]\n",
    "\n",
    "# You may need to adjust this path. You made this file in step 6\n",
    "\n",
    "with open(\"degenerate_codons.list\") as f:\n",
    "    lines = [line.strip() for line in f]\n",
    "    \n",
    "d = {}\n",
    "for line in lines:\n",
    "    line = line.strip()\n",
    "    if (len(line) == 0 ):\n",
    "        continue\n",
    "    temp = line.strip().split()\n",
    "    d[int(temp[0])] = temp[1]\n",
    "    \n",
    "for k,v in d.items():\n",
    "    s_splited[k-1] = v\n",
    "    \n"
   ]
  },
  {
   "cell_type": "code",
   "execution_count": 11,
   "metadata": {},
   "outputs": [
    {
     "name": "stdout",
     "output_type": "stream",
     "text": [
      "1         KVM                 AYEDSC*G            \n",
      "2         CVA                 RQP                 \n",
      "3         ATT                 I                   \n",
      "4         GAA                 E                   \n",
      "5         AAT                 N                   \n",
      "6         GCG                 A                   \n",
      "7         CTG                 L                   \n",
      "8         GCG                 A                   \n",
      "9         GAA                 E                   \n",
      "10        DHA                 TASEI*KLV           \n",
      "11        CWA                 QL                  \n",
      "12        AGC                 S                   \n",
      "13        GCG                 A                   \n",
      "14        GAA                 E                   \n",
      "15        TTT                 F                   \n",
      "16        GCG                 A                   \n",
      "17        CGC                 R                   \n",
      "18        GAA                 E                   \n",
      "19        GAA                 E                   \n",
      "20        GAA                 E                   \n",
      "21        CTG                 L                   \n",
      "22        CTG                 L                   \n",
      "23        GAA                 E                   \n",
      "24        CTG                 L                   \n",
      "25        CAT                 H                   \n",
      "26        CGC                 R                   \n",
      "27        CTG                 L                   \n",
      "28        ATT                 I                   \n",
      "29        GAA                 E                   \n",
      "30        AAT                 N                   \n",
      "31        TTT                 F                   \n",
      "32        CTG                 L                   \n",
      "33        GAA                 E                   \n",
      "34        GAA                 E                   \n",
      "35        GCG                 A                   \n",
      "36        AAA                 K                   \n",
      "37        CGC                 R                   \n",
      "38        GTG                 V                   \n",
      "39        AAA                 K                   \n",
      "40        CTG                 L                   \n",
      "41        ACC                 T                   \n",
      "42        MAA                 KQ                  \n",
      "43        GCG                 A                   \n",
      "44        KYA                 SAVL                \n",
      "45        CAG                 Q                   \n",
      "46        RRC                 GNSD                \n",
      "47        AAT                 N                   \n",
      "48        GGC                 G                   \n",
      "49        GAT                 D                   \n",
      "50        CCG                 P                   \n",
      "51        CGC                 R                   \n",
      "52        CTG                 L                   \n",
      "53        GAA                 E                   \n",
      "54        SYA                 AVLP                \n",
      "55        GCG                 A                   \n",
      "56        GCG                 A                   \n"
     ]
    }
   ],
   "source": [
    "s2 = ''.join(s_splited)\n",
    "translate(s2)"
   ]
  },
  {
   "cell_type": "code",
   "execution_count": 12,
   "metadata": {},
   "outputs": [
    {
     "name": "stdout",
     "output_type": "stream",
     "text": [
      "This is your degenerate codon DNA sequence\n",
      "\n",
      "KVMCVAATTGAAAATGCGCTGGCGGAADHACWAAGCGCGGAATTTGCGCGCGAAGAAGAACTGCTGGAACTGCATCGCCTGATTGAAAATTTTCTGGAAGAAGCGAAACGCGTGAAACTGACCMAAGCGKYACAGRRCAATGGCGATCCGCGCCTGGAASYAGCGGCG\n",
      "\n",
      "#######################################################################\n"
     ]
    }
   ],
   "source": [
    "print(\"This is your degenerate codon DNA sequence\")\n",
    "print(\"\")\n",
    "print(s2)\n",
    "print(\"\")\n",
    "print(\"#######################################################################\")"
   ]
  },
  {
   "cell_type": "code",
   "execution_count": 13,
   "metadata": {},
   "outputs": [
    {
     "name": "stdout",
     "output_type": "stream",
     "text": [
      "[AYEDSC*G][RQP]IENALAE[TASEI*KLV][QL]SAEFAREEELLELHRLIENFLEEAKRVKLT[KQ]A[SAVL]Q[GNSD]NGDPRLE[AVLP]AA\n"
     ]
    }
   ],
   "source": [
    "translate2(s2.upper())"
   ]
  },
  {
   "cell_type": "code",
   "execution_count": null,
   "metadata": {},
   "outputs": [],
   "source": []
  },
  {
   "cell_type": "code",
   "execution_count": 14,
   "metadata": {},
   "outputs": [
    {
     "name": "stdout",
     "output_type": "stream",
     "text": [
      "[AYEDSC*G][RQP]IENALAE[TASEI*KLV][QL]SAEFAREEELLELHRLIENFLEEAKRVKLT[KQ]A[SAVL]Q[GNSD]NGDPRLE[AVLP]AA\n"
     ]
    }
   ],
   "source": [
    "my_final_sequence = \"KVMCVAATTGAAAATGCGCTGGCGGAADHACWAAGCGCGGAATTTGCGCGCGAAGAAGAACTGCTGGAACTGCATCGCCTGATTGAAAATTTTCTGGAAGAAGCGAAACGCGTGAAACTGACCMAAGCGKYACAGRRCAATGGCGATCCGCGCCTGGAASYAGCGGCG\"\n",
    "\n",
    "translate2(my_final_sequence)"
   ]
  },
  {
   "cell_type": "code",
   "execution_count": null,
   "metadata": {},
   "outputs": [],
   "source": []
  }
 ],
 "metadata": {
  "kernelspec": {
   "display_name": "bcov_python",
   "language": "python",
   "name": "bcov_python"
  },
  "language_info": {
   "codemirror_mode": {
    "name": "ipython",
    "version": 3
   },
   "file_extension": ".py",
   "mimetype": "text/x-python",
   "name": "python",
   "nbconvert_exporter": "python",
   "pygments_lexer": "ipython3",
   "version": "3.6.10"
  }
 },
 "nbformat": 4,
 "nbformat_minor": 4
}
