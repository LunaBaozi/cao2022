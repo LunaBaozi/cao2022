{
 "cells": [
  {
   "cell_type": "code",
   "execution_count": 22,
   "metadata": {},
   "outputs": [],
   "source": [
    "import os\n",
    "import sys\n",
    "import re\n",
    "import random\n",
    "import numpy as np\n",
    "import pandas as pd\n",
    "import math\n",
    "import glob\n",
    "import matplotlib\n",
    "import matplotlib.pyplot as plt\n",
    "import seaborn as sns\n",
    "from collections import defaultdict\n",
    "pd.options.display.max_colwidth = 1000\n",
    "\n",
    "sys.path.append('/home/linnaan/lib/')\n",
    "from libSlurm import make_submit_file\n",
    "\n",
    "sys.path.append('/home/linnaan/software/')\n",
    "from silent_tools import silent_tools"
   ]
  },
  {
   "cell_type": "code",
   "execution_count": 2,
   "metadata": {},
   "outputs": [],
   "source": [
    "original_seq = 'NEDIRRLLHEFYEALNRGDLDKAMELYHPAGRLTVNGREYHSRDEIREFLKHAIDANVRFEIDHIEIRGETVTVHATVHVRGGNLTFRVTEHWVFDPNNRVVEVHIHIRPP'"
   ]
  },
  {
   "cell_type": "code",
   "execution_count": 11,
   "metadata": {},
   "outputs": [],
   "source": [
    "script_dir = '/home/linnaan/software/analyze_ssm_bcov/'\n",
    "work_dir = '/home/linnaan/wet_lab/NGS/FOL-SSM-1739/ssm_analysis_all/'"
   ]
  },
  {
   "cell_type": "code",
   "execution_count": 21,
   "metadata": {},
   "outputs": [],
   "source": [
    "PROTOCOL = f'/software/rosetta/latest/bin/rosetta_scripts.hdf5.linuxgccrelease -corrections::beta_nov16 ' + \\\n",
    "           f'-parser:protocol {script_dir}ssm_relax_then_score.xml -nstruct 3'\n",
    "param = '/home/linnaan/ligands/FOL/FOL_classic_redo/FOL.params'\n",
    "out = f'{work_dir}relax_all_silent_out'\n",
    "os.makedirs(out,exist_ok=True)\n",
    "\n",
    "cmd_list = []\n",
    "for silent in glob.glob(f'{work_dir}validation_splites/*.silent'):\n",
    "    name = silent.replace('.silent','')\n",
    "    cmd = f'{PROTOCOL} -in:file:silent {silent} -extra_res_fa {param} -out:path:all {out} '+\\\n",
    "          f'-out:file:silent {name}_relax.silent'\n",
    "    cmd_list.append(cmd)\n",
    "fp = open(f'{work_dir}2_relax_all_cmd','w')\n",
    "fp.write('\\n'.join(cmd_list))\n",
    "fp.close()"
   ]
  },
  {
   "cell_type": "code",
   "execution_count": null,
   "metadata": {},
   "outputs": [],
   "source": []
  }
 ],
 "metadata": {
  "kernelspec": {
   "display_name": "PyRosetta (Python 3.7)",
   "language": "python",
   "name": "pyrosetta"
  },
  "language_info": {
   "codemirror_mode": {
    "name": "ipython",
    "version": 3
   },
   "file_extension": ".py",
   "mimetype": "text/x-python",
   "name": "python",
   "nbconvert_exporter": "python",
   "pygments_lexer": "ipython3",
   "version": "3.7.7"
  }
 },
 "nbformat": 4,
 "nbformat_minor": 4
}
